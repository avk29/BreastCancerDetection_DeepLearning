{
  "nbformat": 4,
  "nbformat_minor": 0,
  "metadata": {
    "colab": {
      "name": "CNN.ipynb",
      "provenance": [],
      "authorship_tag": "ABX9TyNs19x4gydZGFGP4BHD2U+p",
      "include_colab_link": true
    },
    "kernelspec": {
      "name": "python3",
      "display_name": "Python 3"
    },
    "language_info": {
      "name": "python"
    },
    "accelerator": "GPU",
    "gpuClass": "standard"
  },
  "cells": [
    {
      "cell_type": "markdown",
      "metadata": {
        "id": "view-in-github",
        "colab_type": "text"
      },
      "source": [
        "<a href=\"https://colab.research.google.com/github/avk29/BreastCancerDetection_DeepLearning/blob/main/CNN.ipynb\" target=\"_parent\"><img src=\"https://colab.research.google.com/assets/colab-badge.svg\" alt=\"Open In Colab\"/></a>"
      ]
    },
    {
      "cell_type": "code",
      "execution_count": 1,
      "metadata": {
        "id": "yEO2vnZ1XIWt"
      },
      "outputs": [],
      "source": [
        "# Seed value\n",
        "# Apparently you may use different seed values at each stage\n",
        "seed_value= 0\n",
        "\n",
        "# 1. Set the `PYTHONHASHSEED` environment variable at a fixed value\n",
        "import os\n",
        "os.environ['PYTHONHASHSEED']=str(seed_value)\n",
        "\n",
        "# 2. Set the `python` built-in pseudo-random generator at a fixed value\n",
        "import random\n",
        "random.seed(seed_value)\n",
        "\n",
        "# 3. Set the `numpy` pseudo-random generator at a fixed value\n",
        "import numpy as np\n",
        "np.random.seed(seed_value)\n",
        "\n",
        "# 4. Set the `tensorflow` pseudo-random generator at a fixed value\n",
        "import tensorflow as tf\n",
        "tf.random.set_seed(seed_value)\n",
        "# for later versions: \n",
        "# tf.compat.v1.set_random_seed(seed_value)\n",
        "\n",
        "# 5. Configure a new global `tensorflow` session\n",
        "from keras import backend as K\n",
        "session_conf = tf.compat.v1.ConfigProto(intra_op_parallelism_threads=1, inter_op_parallelism_threads=1)\n",
        "sess = tf.compat.v1.Session(graph=tf.compat.v1.get_default_graph(), config=session_conf)\n",
        "K.set_session(sess)\n"
      ]
    },
    {
      "cell_type": "code",
      "source": [
        "# Importing requried libraries\n",
        "\n",
        "import matplotlib.pyplot as plt\n",
        "import numpy as np\n",
        "import pandas as pd\n",
        "import math\n",
        "import cv2\n",
        "import matplotlib.pyplot as plt\n",
        "import os\n",
        "import random\n",
        "import seaborn as sns\n",
        "from sklearn.model_selection import train_test_split\n",
        "from PIL import Image\n",
        "from scipy import misc\n",
        "import random as python_random\n",
        "from os import listdir\n",
        "from os.path import isfile, join\n",
        "from random import shuffle\n",
        "from collections import Counter\n",
        "import tensorflow as tf\n",
        "from keras.models import Sequential\n",
        "from keras.layers import Conv2D, MaxPooling2D\n",
        "from keras.layers import Activation, Dropout, Flatten, Dense\n",
        "np.random.seed(23)\n",
        "python_random.seed(23)\n",
        "tf.random.set_seed(34)\n",
        "from google.colab import files"
      ],
      "metadata": {
        "id": "wC_S6sF0YsLu"
      },
      "execution_count": 2,
      "outputs": []
    },
    {
      "cell_type": "code",
      "source": [
        "from google.colab import drive\n",
        "drive.mount('/content/drive')"
      ],
      "metadata": {
        "colab": {
          "base_uri": "https://localhost:8080/"
        },
        "id": "Fme4HHR3Y0kN",
        "outputId": "a5b5158f-5dea-4ec1-a6bc-b93c16efd632"
      },
      "execution_count": 3,
      "outputs": [
        {
          "output_type": "stream",
          "name": "stdout",
          "text": [
            "Mounted at /content/drive\n"
          ]
        }
      ]
    },
    {
      "cell_type": "code",
      "source": [
        "normal = os.listdir(\"/content/drive/MyDrive/Capstone/Data/Mini_DDSM_Upload/Data_latest copy/Normal_30\")\n",
        "benign = os.listdir(\"/content/drive/MyDrive/Capstone/Data/Mini_DDSM_Upload/Data_latest copy/Benign_30\")\n",
        "cancer = os.listdir(\"/content/drive/MyDrive/Capstone/Data//Mini_DDSM_Upload/Data_latest copy/Cancer_30\")\n",
        "\n",
        "# Storing the first 30 images of each class\n",
        "normal = normal[0:30]\n",
        "benign = benign[:30]\n",
        "cancer = cancer[:30]"
      ],
      "metadata": {
        "id": "5m4m9hBeZGOj"
      },
      "execution_count": 4,
      "outputs": []
    },
    {
      "cell_type": "code",
      "source": [
        "img= Image.open(\"/content/drive/MyDrive/Capstone/Data/Mini_DDSM_Upload/Data_latest copy/Benign_30/10_C_0217_1.LEFT_MLO.LJPEG.1_highpass.png\").resize((128,128))\n",
        "img.getbands() #shows the channels in the images"
      ],
      "metadata": {
        "colab": {
          "base_uri": "https://localhost:8080/"
        },
        "id": "g3gZeoeoZo6S",
        "outputId": "b329f768-3fc5-4deb-c21a-e312a61a166d"
      },
      "execution_count": 5,
      "outputs": [
        {
          "output_type": "execute_result",
          "data": {
            "text/plain": [
              "('R', 'G', 'B', 'A')"
            ]
          },
          "metadata": {},
          "execution_count": 5
        }
      ]
    },
    {
      "cell_type": "code",
      "source": [
        "dataset = np.concatenate([normal, benign, cancer])\n",
        "len(dataset) == len(normal)+len(benign)+len(cancer)"
      ],
      "metadata": {
        "colab": {
          "base_uri": "https://localhost:8080/"
        },
        "id": "bAP5AzkJZvT2",
        "outputId": "d6fe16eb-c509-457e-8a7a-54211c509f81"
      },
      "execution_count": 6,
      "outputs": [
        {
          "output_type": "execute_result",
          "data": {
            "text/plain": [
              "True"
            ]
          },
          "metadata": {},
          "execution_count": 6
        }
      ]
    },
    {
      "cell_type": "code",
      "source": [
        "tar_x = np.full(len(normal),0)\n",
        "tar_y = np.full(len(benign),1)\n",
        "tar_z = np.full(len(cancer),2)\n",
        "\n",
        "data_target = np.concatenate([tar_x, tar_y, tar_z])\n",
        "len(data_target) == len(tar_x) + len(tar_y) + len(tar_z)\n",
        "data_target = tf.keras.utils.to_categorical(data_target,num_classes=3)"
      ],
      "metadata": {
        "id": "qIOzZdn6Z9sr"
      },
      "execution_count": 7,
      "outputs": []
    },
    {
      "cell_type": "code",
      "source": [
        "# Resizing images of each class and adding all of them to a list\n",
        "\n",
        "X_data = []\n",
        "\n",
        "for i in normal:\n",
        "  img = cv2.imread('/content/drive/MyDrive/Capstone/Data/Mini_DDSM_Upload/Data_latest copy/Normal_30/'+i)\n",
        "  face = cv2.resize(img, (250, 250))\n",
        "  (b, g, r) = cv2.split(face)\n",
        "  img = cv2.merge([r,g,b])\n",
        "  X_data.append(img)\n",
        "\n",
        "\n",
        "for i in benign:\n",
        "  img = cv2.imread('/content/drive/MyDrive/Capstone/Data/Mini_DDSM_Upload/Data_latest copy/Benign_30/'+i)\n",
        "  face = cv2.resize(img, (250, 250))\n",
        "  (b, g, r) = cv2.split(face) \n",
        "  img = cv2.merge([r,g,b])\n",
        "  X_data.append(img)\n",
        "\n",
        "\n",
        "for i in cancer:\n",
        "  img = cv2.imread('/content/drive/MyDrive/Capstone/Data/Mini_DDSM_Upload/Data_latest copy/Cancer_30/'+i)\n",
        "  face = cv2.resize(img, (250,250))\n",
        "  (b, g, r) = cv2.split(face) \n",
        "  img = cv2.merge([r,g,b])\n",
        "  X_data.append(img)"
      ],
      "metadata": {
        "id": "qurJcAabZ_yO"
      },
      "execution_count": 8,
      "outputs": []
    },
    {
      "cell_type": "code",
      "source": [
        "img[249].shape"
      ],
      "metadata": {
        "colab": {
          "base_uri": "https://localhost:8080/"
        },
        "id": "GqoVmHL3aWFA",
        "outputId": "16121c1a-4dbd-420e-83d7-169cd218c748"
      },
      "execution_count": 9,
      "outputs": [
        {
          "output_type": "execute_result",
          "data": {
            "text/plain": [
              "(250, 3)"
            ]
          },
          "metadata": {},
          "execution_count": 9
        }
      ]
    },
    {
      "cell_type": "markdown",
      "source": [
        "Images Explanation:\n",
        "\n",
        "As shown by the output of the cell below, each image is a 3D matrix with 250 x 250 pixels. Each pixel has three values (r,g,b) which are same for all the pixels. hence the image looks like a grayscale image"
      ],
      "metadata": {
        "id": "lQr3-VMYasjK"
      }
    },
    {
      "cell_type": "code",
      "source": [
        "img.shape"
      ],
      "metadata": {
        "colab": {
          "base_uri": "https://localhost:8080/"
        },
        "id": "9Cx0f7teavZq",
        "outputId": "2d22178b-9f02-4e34-ccc6-46c2bb73a133"
      },
      "execution_count": 10,
      "outputs": [
        {
          "output_type": "execute_result",
          "data": {
            "text/plain": [
              "(250, 250, 3)"
            ]
          },
          "metadata": {},
          "execution_count": 10
        }
      ]
    },
    {
      "cell_type": "code",
      "source": [
        "X = np.squeeze(X_data)\n",
        "X = X.astype('float32')\n",
        "X /= 255"
      ],
      "metadata": {
        "id": "JT-QkJ8ja7-w"
      },
      "execution_count": 11,
      "outputs": []
    },
    {
      "cell_type": "code",
      "source": [
        "# Splitting the data into an 80:20 training and testing split.\n",
        "# Further, 10% of testing data is used as validation data.\n",
        "\n",
        "\n",
        "tf.random.set_seed(3)\n",
        "x_train, x_test, y_train, y_test = train_test_split(X, data_target, \n",
        "                                                    test_size = 0.2,\n",
        "                                                    random_state = 1,\n",
        "                                                    stratify=data_target)\n",
        "x_train, x_valid, y_train, y_valid = train_test_split(x_train, y_train,\n",
        "                                                    test_size = 0.10,\n",
        "                                                    random_state = 43,stratify=y_train)"
      ],
      "metadata": {
        "id": "apISFkp-bEb8"
      },
      "execution_count": 12,
      "outputs": []
    },
    {
      "cell_type": "code",
      "source": [
        "# Early stopping\n",
        "\n",
        "callback= tf.keras.callbacks.EarlyStopping(\n",
        "    monitor=\"val_loss\",\n",
        "    min_delta=0,\n",
        "    patience=5,\n",
        "    verbose=0,\n",
        "    mode=\"min\",\n",
        "    baseline=None,\n",
        "    restore_best_weights=True\n",
        ")"
      ],
      "metadata": {
        "id": "9Y7vbutQbGrG"
      },
      "execution_count": 13,
      "outputs": []
    },
    {
      "cell_type": "markdown",
      "source": [
        "## CNN Model"
      ],
      "metadata": {
        "id": "8OhdHKh9h616"
      }
    },
    {
      "cell_type": "code",
      "source": [
        "model = tf.keras.Sequential()\n",
        "\n",
        "# Must define the input shape in the first layer of the neural network\n",
        "model.add(tf.keras.layers.Conv2D(filters=16,kernel_size=3, padding='valid', activation='relu', input_shape=(250,250,3))) \n",
        "model.add(tf.keras.layers.MaxPooling2D(pool_size=2, strides=(2,2)))\n",
        "# model.add(tf.keras.layers.Dropout(0.45))#regularization\n",
        "#For example, if the first layer has 256 units, after dropout=0.45 is applied, \n",
        "#only (1 - 0.45) * 256 units = 140 units from layer 1 participate in layer 2.\n",
        "\n",
        "model.add(tf.keras.layers.Conv2D(filters=32,kernel_size=3,padding='valid', activation='relu'))\n",
        "model.add(tf.keras.layers.MaxPooling2D(pool_size=2, strides=(2,2)))\n",
        "# model.add(tf.keras.layers.Dropout(0.1))\n",
        "\n",
        "model.add(tf.keras.layers.Conv2D(filters=64, kernel_size=3, padding='valid', activation='relu', kernel_regularizer =tf.keras.regularizers.l1( l=0.01)))\n",
        "model.add(tf.keras.layers.MaxPooling2D(pool_size=2, strides=(2,2)))\n",
        "\n",
        "# model.add(tf.keras.layers.Conv2D(filters=128, kernel_size=3, padding='valid', activation='relu', kernel_regularizer =tf.keras.regularizers.l1( l=0.01)))\n",
        "# model.add(tf.keras.layers.MaxPooling2D(pool_size=2, strides=(2,2)))\n",
        "\n",
        "model.add(tf.keras.layers.Flatten())\n",
        "\n",
        "# model.add(tf.keras.layers.Dense(4000, activation='relu'))\n",
        "# model.add(tf.keras.layers.Dense(3000, activation='relu'))\n",
        "# model.add(tf.keras.layers.Dense(2000, activation='relu'))\n",
        "#model.add(tf.keras.layers.Dropout(0.15))\n",
        "# model.add(tf.keras.layers.Dense(1000, activation='relu'))\n",
        "#model.add(tf.keras.layers.Dropout(0.15))\n",
        "model.add(tf.keras.layers.Dense(516, activation='relu'))\n",
        "#model.add(tf.keras.layers.Dropout(0.15))\n",
        "model.add(tf.keras.layers.Dense(256, activation='relu'))\n",
        "#model.add(tf.keras.layers.Dropout(0.15))\n",
        "model.add(tf.keras.layers.Dense(128, activation='relu'))\n",
        "#model.add(tf.keras.layers.Dropout(0.15))\n",
        "model.add(tf.keras.layers.Dense(64, activation='relu'))\n",
        "#model.add(tf.keras.layers.Dropout(0.15))\n",
        "\n",
        "model.add(tf.keras.layers.Dense(3, activation='softmax'))\n",
        "\n",
        "# Take a look at the model summary\n",
        "model.summary()\n"
      ],
      "metadata": {
        "colab": {
          "base_uri": "https://localhost:8080/"
        },
        "id": "_JU6naUybLsb",
        "outputId": "c16f0a4a-e775-4cbc-ecad-e4a7ee39cc67"
      },
      "execution_count": 14,
      "outputs": [
        {
          "output_type": "stream",
          "name": "stdout",
          "text": [
            "Model: \"sequential\"\n",
            "_________________________________________________________________\n",
            " Layer (type)                Output Shape              Param #   \n",
            "=================================================================\n",
            " conv2d (Conv2D)             (None, 248, 248, 16)      448       \n",
            "                                                                 \n",
            " max_pooling2d (MaxPooling2D  (None, 124, 124, 16)     0         \n",
            " )                                                               \n",
            "                                                                 \n",
            " conv2d_1 (Conv2D)           (None, 122, 122, 32)      4640      \n",
            "                                                                 \n",
            " max_pooling2d_1 (MaxPooling  (None, 61, 61, 32)       0         \n",
            " 2D)                                                             \n",
            "                                                                 \n",
            " conv2d_2 (Conv2D)           (None, 59, 59, 64)        18496     \n",
            "                                                                 \n",
            " max_pooling2d_2 (MaxPooling  (None, 29, 29, 64)       0         \n",
            " 2D)                                                             \n",
            "                                                                 \n",
            " flatten (Flatten)           (None, 53824)             0         \n",
            "                                                                 \n",
            " dense (Dense)               (None, 516)               27773700  \n",
            "                                                                 \n",
            " dense_1 (Dense)             (None, 256)               132352    \n",
            "                                                                 \n",
            " dense_2 (Dense)             (None, 128)               32896     \n",
            "                                                                 \n",
            " dense_3 (Dense)             (None, 64)                8256      \n",
            "                                                                 \n",
            " dense_4 (Dense)             (None, 3)                 195       \n",
            "                                                                 \n",
            "=================================================================\n",
            "Total params: 27,970,983\n",
            "Trainable params: 27,970,983\n",
            "Non-trainable params: 0\n",
            "_________________________________________________________________\n"
          ]
        }
      ]
    },
    {
      "cell_type": "code",
      "source": [
        "model.compile(loss='categorical_crossentropy',\n",
        "             optimizer=tf.keras.optimizers.Adam(), #change the parameters- Adam (beta1, beta2)\n",
        "             metrics=['acc'])"
      ],
      "metadata": {
        "id": "jT_nO1DcbkNu"
      },
      "execution_count": 15,
      "outputs": []
    },
    {
      "cell_type": "code",
      "source": [
        "hist= model.fit(x_train,\n",
        "         y_train,\n",
        "         batch_size=10,\n",
        "         callbacks=[callback],\n",
        "         epochs=60, validation_data= (x_valid, y_valid))\n",
        "\n",
        "score = model.evaluate(x_test, y_test, verbose=0)\n",
        "\n",
        "# Print test accuracy\n",
        "print('\\n', 'Test accuracy:', score[1])\n",
        "\n",
        "plt.plot(hist.history['acc'])\n",
        "plt.plot(hist.history['val_acc'])\n",
        "plt.legend(['accuracy','validation accuracy'])\n",
        "plt.title(\"Adam\")"
      ],
      "metadata": {
        "colab": {
          "base_uri": "https://localhost:8080/",
          "height": 1000
        },
        "id": "UQBv5WexdP-0",
        "outputId": "898f0e02-ea6d-401e-9c25-84f6a06fc1e2"
      },
      "execution_count": 16,
      "outputs": [
        {
          "output_type": "stream",
          "name": "stdout",
          "text": [
            "Epoch 1/60\n",
            "7/7 [==============================] - 13s 131ms/step - loss: 8.4531 - acc: 0.3281 - val_loss: 7.6426 - val_acc: 0.3750\n",
            "Epoch 2/60\n",
            "7/7 [==============================] - 0s 34ms/step - loss: 7.2706 - acc: 0.3281 - val_loss: 6.5780 - val_acc: 0.3750\n",
            "Epoch 3/60\n",
            "7/7 [==============================] - 0s 35ms/step - loss: 6.2521 - acc: 0.4219 - val_loss: 5.6402 - val_acc: 0.5000\n",
            "Epoch 4/60\n",
            "7/7 [==============================] - 0s 35ms/step - loss: 5.3506 - acc: 0.4688 - val_loss: 4.7407 - val_acc: 0.6250\n",
            "Epoch 5/60\n",
            "7/7 [==============================] - 0s 35ms/step - loss: 4.4951 - acc: 0.4219 - val_loss: 3.9363 - val_acc: 0.7500\n",
            "Epoch 6/60\n",
            "7/7 [==============================] - 0s 34ms/step - loss: 3.7539 - acc: 0.5781 - val_loss: 3.2382 - val_acc: 0.7500\n",
            "Epoch 7/60\n",
            "7/7 [==============================] - 0s 38ms/step - loss: 3.0714 - acc: 0.6094 - val_loss: 2.4650 - val_acc: 0.7500\n",
            "Epoch 8/60\n",
            "7/7 [==============================] - 0s 37ms/step - loss: 2.5911 - acc: 0.5469 - val_loss: 2.0581 - val_acc: 0.6250\n",
            "Epoch 9/60\n",
            "7/7 [==============================] - 0s 39ms/step - loss: 2.2156 - acc: 0.5625 - val_loss: 1.8146 - val_acc: 0.8750\n",
            "Epoch 10/60\n",
            "7/7 [==============================] - 0s 39ms/step - loss: 1.7987 - acc: 0.6719 - val_loss: 1.4949 - val_acc: 0.6250\n",
            "Epoch 11/60\n",
            "7/7 [==============================] - 0s 38ms/step - loss: 1.4437 - acc: 0.7188 - val_loss: 1.0378 - val_acc: 0.8750\n",
            "Epoch 12/60\n",
            "7/7 [==============================] - 0s 38ms/step - loss: 1.1827 - acc: 0.7188 - val_loss: 1.0358 - val_acc: 0.7500\n",
            "Epoch 13/60\n",
            "7/7 [==============================] - 0s 39ms/step - loss: 1.0282 - acc: 0.8125 - val_loss: 0.9477 - val_acc: 0.7500\n",
            "Epoch 14/60\n",
            "7/7 [==============================] - 0s 27ms/step - loss: 0.8515 - acc: 0.8438 - val_loss: 1.2852 - val_acc: 0.6250\n",
            "Epoch 15/60\n",
            "7/7 [==============================] - 0s 30ms/step - loss: 0.8451 - acc: 0.8125 - val_loss: 1.0824 - val_acc: 0.7500\n",
            "Epoch 16/60\n",
            "7/7 [==============================] - 0s 41ms/step - loss: 0.7375 - acc: 0.9062 - val_loss: 0.7791 - val_acc: 0.7500\n",
            "Epoch 17/60\n",
            "7/7 [==============================] - 0s 39ms/step - loss: 0.5605 - acc: 0.9375 - val_loss: 0.5275 - val_acc: 0.8750\n",
            "Epoch 18/60\n",
            "7/7 [==============================] - 0s 29ms/step - loss: 0.5696 - acc: 0.8750 - val_loss: 0.7850 - val_acc: 0.7500\n",
            "Epoch 19/60\n",
            "7/7 [==============================] - 0s 28ms/step - loss: 0.5967 - acc: 0.9062 - val_loss: 0.6751 - val_acc: 0.7500\n",
            "Epoch 20/60\n",
            "7/7 [==============================] - 0s 29ms/step - loss: 0.4780 - acc: 0.9375 - val_loss: 0.6338 - val_acc: 0.7500\n",
            "Epoch 21/60\n",
            "7/7 [==============================] - 0s 36ms/step - loss: 0.4189 - acc: 0.9375 - val_loss: 0.4643 - val_acc: 0.8750\n",
            "Epoch 22/60\n",
            "7/7 [==============================] - 0s 23ms/step - loss: 0.3959 - acc: 0.9375 - val_loss: 0.6239 - val_acc: 0.7500\n",
            "Epoch 23/60\n",
            "7/7 [==============================] - 0s 24ms/step - loss: 0.3618 - acc: 0.9219 - val_loss: 0.5330 - val_acc: 0.7500\n",
            "Epoch 24/60\n",
            "7/7 [==============================] - 0s 25ms/step - loss: 0.3112 - acc: 0.9531 - val_loss: 0.5329 - val_acc: 0.8750\n",
            "Epoch 25/60\n",
            "7/7 [==============================] - 0s 25ms/step - loss: 0.2800 - acc: 0.9844 - val_loss: 0.6476 - val_acc: 0.7500\n",
            "Epoch 26/60\n",
            "7/7 [==============================] - 0s 28ms/step - loss: 0.3056 - acc: 0.9531 - val_loss: 0.6781 - val_acc: 0.7500\n",
            "\n",
            " Test accuracy: 0.8888888955116272\n"
          ]
        },
        {
          "output_type": "execute_result",
          "data": {
            "text/plain": [
              "Text(0.5, 1.0, 'Adam')"
            ]
          },
          "metadata": {},
          "execution_count": 16
        },
        {
          "output_type": "display_data",
          "data": {
            "text/plain": [
              "<Figure size 432x288 with 1 Axes>"
            ],
            "image/png": "[encoded data removed]"
          },
          "metadata": {
            "needs_background": "light"
          }
        }
      ]
    },
    {
      "cell_type": "code",
      "source": [
        "score = model.evaluate(x_train, y_train, verbose=0)\n",
        "score[1]"
      ],
      "metadata": {
        "colab": {
          "base_uri": "https://localhost:8080/"
        },
        "id": "hW_S6AiDdVAr",
        "outputId": "01cd5f9f-8501-4c16-f09a-a8dc91bb3133"
      },
      "execution_count": 17,
      "outputs": [
        {
          "output_type": "execute_result",
          "data": {
            "text/plain": [
              "0.953125"
            ]
          },
          "metadata": {},
          "execution_count": 17
        }
      ]
    }
  ]
}